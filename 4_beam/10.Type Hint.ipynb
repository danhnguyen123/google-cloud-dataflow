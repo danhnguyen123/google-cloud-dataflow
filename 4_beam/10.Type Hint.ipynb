{
 "cells": [
  {
   "cell_type": "code",
   "execution_count": 2,
   "metadata": {},
   "outputs": [
    {
     "ename": "TypeCheckError",
     "evalue": "Type hint violation for '[2]: Filter(<lambda at 2152007247.py:8>)': requires <class 'int'> but got <class 'str'> for x\nFull type hint:\nIOTypeHints[inputs=((<class 'int'>,), {}), outputs=None]\nFile \"/home/danhnguyen/.local/lib/python3.10/site-packages/IPython/core/interactiveshell.py\", line 3490, in run_ast_nodes\n    if await self.run_code(code, result, async_=asy):\nFile \"/home/danhnguyen/.local/lib/python3.10/site-packages/IPython/core/interactiveshell.py\", line 3550, in run_code\n    exec(code_obj, self.user_global_ns, self.user_ns)\nFile \"/tmp/ipykernel_14277/2152007247.py\", line 8, in <module>\n    | beam.Filter(lambda x: x % 2 == 0).with_input_types(int)\nFile \"/home/danhnguyen/.local/lib/python3.10/site-packages/apache_beam/transforms/ptransform.py\", line 920, in with_input_types\n    return WithTypeHints.with_input_types(\nFile \"/home/danhnguyen/.local/lib/python3.10/site-packages/apache_beam/typehints/decorators.py\", line 538, in with_input_types\n    self._type_hints = self._get_or_create_type_hints().with_input_types(\n\nbased on:\n  IOTypeHints[inputs=((<class 'int'>,), {}), outputs=None]\n  File \"/home/danhnguyen/.local/lib/python3.10/site-packages/IPython/core/interactiveshell.py\", line 3550, in run_code\n      exec(code_obj, self.user_global_ns, self.user_ns)\n  File \"/tmp/ipykernel_14277/2152007247.py\", line 8, in <module>\n      | beam.Filter(lambda x: x % 2 == 0).with_input_types(int)\n  File \"/home/danhnguyen/.local/lib/python3.10/site-packages/apache_beam/transforms/ptransform.py\", line 907, in with_input_types\n      super().with_input_types(input_type_hint)\n  File \"/home/danhnguyen/.local/lib/python3.10/site-packages/apache_beam/transforms/ptransform.py\", line 414, in with_input_types\n      return super().with_input_types(input_type_hint)\n  File \"/home/danhnguyen/.local/lib/python3.10/site-packages/apache_beam/typehints/decorators.py\", line 538, in with_input_types\n      self._type_hints = self._get_or_create_type_hints().with_input_types(",
     "output_type": "error",
     "traceback": [
      "\u001b[0;31m---------------------------------------------------------------------------\u001b[0m",
      "\u001b[0;31mTypeCheckError\u001b[0m                            Traceback (most recent call last)",
      "Cell \u001b[0;32mIn[2], line 6\u001b[0m\n\u001b[1;32m      2\u001b[0m \u001b[38;5;28;01mimport\u001b[39;00m \u001b[38;5;21;01mapache_beam\u001b[39;00m \u001b[38;5;28;01mas\u001b[39;00m \u001b[38;5;21;01mbeam\u001b[39;00m\n\u001b[1;32m      4\u001b[0m p \u001b[38;5;241m=\u001b[39m beam\u001b[38;5;241m.\u001b[39mPipeline()\n\u001b[0;32m----> 6\u001b[0m evens \u001b[38;5;241m=\u001b[39m ( \u001b[43mp\u001b[49m\u001b[43m \u001b[49m\n\u001b[1;32m      7\u001b[0m \u001b[43m         \u001b[49m\u001b[38;5;241;43m|\u001b[39;49m\u001b[43m \u001b[49m\u001b[43mbeam\u001b[49m\u001b[38;5;241;43m.\u001b[39;49m\u001b[43mCreate\u001b[49m\u001b[43m(\u001b[49m\u001b[43m[\u001b[49m\u001b[38;5;124;43m'\u001b[39;49m\u001b[38;5;124;43mone\u001b[39;49m\u001b[38;5;124;43m'\u001b[39;49m\u001b[43m,\u001b[49m\u001b[38;5;124;43m'\u001b[39;49m\u001b[38;5;124;43mtwo\u001b[39;49m\u001b[38;5;124;43m'\u001b[39;49m\u001b[43m,\u001b[49m\u001b[38;5;124;43m'\u001b[39;49m\u001b[38;5;124;43mthree\u001b[39;49m\u001b[38;5;124;43m'\u001b[39;49m\u001b[43m]\u001b[49m\u001b[43m)\u001b[49m\u001b[43m \u001b[49m\n\u001b[1;32m      8\u001b[0m \u001b[43m         \u001b[49m\u001b[38;5;241;43m|\u001b[39;49m\u001b[43m \u001b[49m\u001b[43mbeam\u001b[49m\u001b[38;5;241;43m.\u001b[39;49m\u001b[43mFilter\u001b[49m\u001b[43m(\u001b[49m\u001b[38;5;28;43;01mlambda\u001b[39;49;00m\u001b[43m \u001b[49m\u001b[43mx\u001b[49m\u001b[43m:\u001b[49m\u001b[43m \u001b[49m\u001b[43mx\u001b[49m\u001b[43m \u001b[49m\u001b[38;5;241;43m%\u001b[39;49m\u001b[43m \u001b[49m\u001b[38;5;241;43m2\u001b[39;49m\u001b[43m \u001b[49m\u001b[38;5;241;43m==\u001b[39;49m\u001b[43m \u001b[49m\u001b[38;5;241;43m0\u001b[39;49m\u001b[43m)\u001b[49m\u001b[38;5;241;43m.\u001b[39;49m\u001b[43mwith_input_types\u001b[49m\u001b[43m(\u001b[49m\u001b[38;5;28;43mint\u001b[39;49m\u001b[43m)\u001b[49m \n\u001b[1;32m      9\u001b[0m         )\n\u001b[1;32m     11\u001b[0m p\u001b[38;5;241m.\u001b[39mrun()\n",
      "File \u001b[0;32m~/.local/lib/python3.10/site-packages/apache_beam/pvalue.py:137\u001b[0m, in \u001b[0;36mPValue.__or__\u001b[0;34m(self, ptransform)\u001b[0m\n\u001b[1;32m    136\u001b[0m \u001b[38;5;28;01mdef\u001b[39;00m \u001b[38;5;21m__or__\u001b[39m(\u001b[38;5;28mself\u001b[39m, ptransform):\n\u001b[0;32m--> 137\u001b[0m   \u001b[38;5;28;01mreturn\u001b[39;00m \u001b[38;5;28;43mself\u001b[39;49m\u001b[38;5;241;43m.\u001b[39;49m\u001b[43mpipeline\u001b[49m\u001b[38;5;241;43m.\u001b[39;49m\u001b[43mapply\u001b[49m\u001b[43m(\u001b[49m\u001b[43mptransform\u001b[49m\u001b[43m,\u001b[49m\u001b[43m \u001b[49m\u001b[38;5;28;43mself\u001b[39;49m\u001b[43m)\u001b[49m\n",
      "File \u001b[0;32m~/.local/lib/python3.10/site-packages/apache_beam/pipeline.py:725\u001b[0m, in \u001b[0;36mPipeline.apply\u001b[0;34m(self, transform, pvalueish, label)\u001b[0m\n\u001b[1;32m    723\u001b[0m type_options \u001b[38;5;241m=\u001b[39m \u001b[38;5;28mself\u001b[39m\u001b[38;5;241m.\u001b[39m_options\u001b[38;5;241m.\u001b[39mview_as(TypeOptions)\n\u001b[1;32m    724\u001b[0m \u001b[38;5;28;01mif\u001b[39;00m type_options\u001b[38;5;241m.\u001b[39mpipeline_type_check:\n\u001b[0;32m--> 725\u001b[0m   \u001b[43mtransform\u001b[49m\u001b[38;5;241;43m.\u001b[39;49m\u001b[43mtype_check_inputs\u001b[49m\u001b[43m(\u001b[49m\u001b[43mpvalueish\u001b[49m\u001b[43m)\u001b[49m\n\u001b[1;32m    727\u001b[0m pvalueish_result \u001b[38;5;241m=\u001b[39m \u001b[38;5;28mself\u001b[39m\u001b[38;5;241m.\u001b[39mrunner\u001b[38;5;241m.\u001b[39mapply(transform, pvalueish, \u001b[38;5;28mself\u001b[39m\u001b[38;5;241m.\u001b[39m_options)\n\u001b[1;32m    729\u001b[0m \u001b[38;5;28;01mif\u001b[39;00m type_options \u001b[38;5;129;01mis\u001b[39;00m \u001b[38;5;129;01mnot\u001b[39;00m \u001b[38;5;28;01mNone\u001b[39;00m \u001b[38;5;129;01mand\u001b[39;00m type_options\u001b[38;5;241m.\u001b[39mpipeline_type_check:\n",
      "File \u001b[0;32m~/.local/lib/python3.10/site-packages/apache_beam/transforms/ptransform.py:947\u001b[0m, in \u001b[0;36mPTransformWithSideInputs.type_check_inputs\u001b[0;34m(self, pvalueish)\u001b[0m\n\u001b[1;32m    944\u001b[0m   \u001b[38;5;28;01mcontinue\u001b[39;00m\n\u001b[1;32m    945\u001b[0m \u001b[38;5;28;01mif\u001b[39;00m \u001b[38;5;129;01mnot\u001b[39;00m typehints\u001b[38;5;241m.\u001b[39mis_consistent_with(bindings\u001b[38;5;241m.\u001b[39mget(arg, typehints\u001b[38;5;241m.\u001b[39mAny),\n\u001b[1;32m    946\u001b[0m                                     hint):\n\u001b[0;32m--> 947\u001b[0m   \u001b[38;5;28;01mraise\u001b[39;00m TypeCheckError(\n\u001b[1;32m    948\u001b[0m       \u001b[38;5;124m'\u001b[39m\u001b[38;5;124mType hint violation for \u001b[39m\u001b[38;5;130;01m\\'\u001b[39;00m\u001b[38;5;132;01m{label}\u001b[39;00m\u001b[38;5;130;01m\\'\u001b[39;00m\u001b[38;5;124m: requires \u001b[39m\u001b[38;5;132;01m{hint}\u001b[39;00m\u001b[38;5;124m but got \u001b[39m\u001b[38;5;124m'\u001b[39m\n\u001b[1;32m    949\u001b[0m       \u001b[38;5;124m'\u001b[39m\u001b[38;5;132;01m{actual_type}\u001b[39;00m\u001b[38;5;124m for \u001b[39m\u001b[38;5;132;01m{arg}\u001b[39;00m\u001b[38;5;130;01m\\n\u001b[39;00m\u001b[38;5;124mFull type hint:\u001b[39m\u001b[38;5;130;01m\\n\u001b[39;00m\u001b[38;5;132;01m{debug_str}\u001b[39;00m\u001b[38;5;124m'\u001b[39m\u001b[38;5;241m.\u001b[39mformat(\n\u001b[1;32m    950\u001b[0m           label\u001b[38;5;241m=\u001b[39m\u001b[38;5;28mself\u001b[39m\u001b[38;5;241m.\u001b[39mlabel,\n\u001b[1;32m    951\u001b[0m           hint\u001b[38;5;241m=\u001b[39mhint,\n\u001b[1;32m    952\u001b[0m           actual_type\u001b[38;5;241m=\u001b[39mbindings[arg],\n\u001b[1;32m    953\u001b[0m           arg\u001b[38;5;241m=\u001b[39marg,\n\u001b[1;32m    954\u001b[0m           debug_str\u001b[38;5;241m=\u001b[39mtype_hints\u001b[38;5;241m.\u001b[39mdebug_str()))\n",
      "\u001b[0;31mTypeCheckError\u001b[0m: Type hint violation for '[2]: Filter(<lambda at 2152007247.py:8>)': requires <class 'int'> but got <class 'str'> for x\nFull type hint:\nIOTypeHints[inputs=((<class 'int'>,), {}), outputs=None]\nFile \"/home/danhnguyen/.local/lib/python3.10/site-packages/IPython/core/interactiveshell.py\", line 3490, in run_ast_nodes\n    if await self.run_code(code, result, async_=asy):\nFile \"/home/danhnguyen/.local/lib/python3.10/site-packages/IPython/core/interactiveshell.py\", line 3550, in run_code\n    exec(code_obj, self.user_global_ns, self.user_ns)\nFile \"/tmp/ipykernel_14277/2152007247.py\", line 8, in <module>\n    | beam.Filter(lambda x: x % 2 == 0).with_input_types(int)\nFile \"/home/danhnguyen/.local/lib/python3.10/site-packages/apache_beam/transforms/ptransform.py\", line 920, in with_input_types\n    return WithTypeHints.with_input_types(\nFile \"/home/danhnguyen/.local/lib/python3.10/site-packages/apache_beam/typehints/decorators.py\", line 538, in with_input_types\n    self._type_hints = self._get_or_create_type_hints().with_input_types(\n\nbased on:\n  IOTypeHints[inputs=((<class 'int'>,), {}), outputs=None]\n  File \"/home/danhnguyen/.local/lib/python3.10/site-packages/IPython/core/interactiveshell.py\", line 3550, in run_code\n      exec(code_obj, self.user_global_ns, self.user_ns)\n  File \"/tmp/ipykernel_14277/2152007247.py\", line 8, in <module>\n      | beam.Filter(lambda x: x % 2 == 0).with_input_types(int)\n  File \"/home/danhnguyen/.local/lib/python3.10/site-packages/apache_beam/transforms/ptransform.py\", line 907, in with_input_types\n      super().with_input_types(input_type_hint)\n  File \"/home/danhnguyen/.local/lib/python3.10/site-packages/apache_beam/transforms/ptransform.py\", line 414, in with_input_types\n      return super().with_input_types(input_type_hint)\n  File \"/home/danhnguyen/.local/lib/python3.10/site-packages/apache_beam/typehints/decorators.py\", line 538, in with_input_types\n      self._type_hints = self._get_or_create_type_hints().with_input_types("
     ]
    }
   ],
   "source": [
    "# import beam module\n",
    "import apache_beam as beam\n",
    "\n",
    "p = beam.Pipeline()\n",
    "\n",
    "evens = ( p \n",
    "         | beam.Create(['one','two','three']) \n",
    "         | beam.Filter(lambda x: x % 2 == 0).with_input_types(int) \n",
    "        )\n",
    "  \n",
    "p.run()"
   ]
  },
  {
   "cell_type": "code",
   "execution_count": 3,
   "metadata": {},
   "outputs": [
    {
     "ename": "TypeCheckError",
     "evalue": "Type hint violation for '[3]: ParDo(FilterEvensDoFn)': requires <class 'int'> but got <class 'str'> for element\nFull type hint:\nIOTypeHints[inputs=((<class 'int'>,), {}), outputs=None]\nFile \"/home/danhnguyen/.local/lib/python3.10/site-packages/IPython/core/interactiveshell.py\", line 3308, in run_cell_async\n    has_raised = await self.run_ast_nodes(code_ast.body, cell_name,\nFile \"/home/danhnguyen/.local/lib/python3.10/site-packages/IPython/core/interactiveshell.py\", line 3490, in run_ast_nodes\n    if await self.run_code(code, result, async_=asy):\nFile \"/home/danhnguyen/.local/lib/python3.10/site-packages/IPython/core/interactiveshell.py\", line 3550, in run_code\n    exec(code_obj, self.user_global_ns, self.user_ns)\nFile \"/tmp/ipykernel_14277/3109295789.py\", line 6, in <module>\n    class FilterEvensDoFn(beam.DoFn):\nFile \"/home/danhnguyen/.local/lib/python3.10/site-packages/apache_beam/typehints/decorators.py\", line 785, in annotate_input_types\n    th = getattr(f, '_type_hints', IOTypeHints.empty()).with_input_types(",
     "output_type": "error",
     "traceback": [
      "\u001b[0;31m---------------------------------------------------------------------------\u001b[0m",
      "\u001b[0;31mTypeCheckError\u001b[0m                            Traceback (most recent call last)",
      "Cell \u001b[0;32mIn[3], line 11\u001b[0m\n\u001b[1;32m      8\u001b[0m     \u001b[38;5;28;01mif\u001b[39;00m element \u001b[38;5;241m%\u001b[39m \u001b[38;5;241m2\u001b[39m \u001b[38;5;241m==\u001b[39m \u001b[38;5;241m0\u001b[39m:\n\u001b[1;32m      9\u001b[0m       \u001b[38;5;28;01myield\u001b[39;00m element\n\u001b[0;32m---> 11\u001b[0m evens \u001b[38;5;241m=\u001b[39m ( \u001b[43mp\u001b[49m\n\u001b[1;32m     12\u001b[0m \u001b[43m         \u001b[49m\u001b[38;5;241;43m|\u001b[39;49m\u001b[43m \u001b[49m\u001b[43mbeam\u001b[49m\u001b[38;5;241;43m.\u001b[39;49m\u001b[43mCreate\u001b[49m\u001b[43m(\u001b[49m\u001b[43m[\u001b[49m\u001b[38;5;124;43m'\u001b[39;49m\u001b[38;5;124;43m1\u001b[39;49m\u001b[38;5;124;43m'\u001b[39;49m\u001b[43m,\u001b[49m\u001b[38;5;124;43m'\u001b[39;49m\u001b[38;5;124;43m2\u001b[39;49m\u001b[38;5;124;43m'\u001b[39;49m\u001b[43m,\u001b[49m\u001b[38;5;124;43m'\u001b[39;49m\u001b[38;5;124;43m3\u001b[39;49m\u001b[38;5;124;43m'\u001b[39;49m\u001b[43m]\u001b[49m\u001b[43m)\u001b[49m\n\u001b[1;32m     13\u001b[0m \u001b[43m         \u001b[49m\u001b[38;5;241;43m|\u001b[39;49m\u001b[43m \u001b[49m\u001b[43mbeam\u001b[49m\u001b[38;5;241;43m.\u001b[39;49m\u001b[43mParDo\u001b[49m\u001b[43m(\u001b[49m\u001b[43mFilterEvensDoFn\u001b[49m\u001b[43m(\u001b[49m\u001b[43m)\u001b[49m\u001b[43m)\u001b[49m \n\u001b[1;32m     14\u001b[0m         )\n\u001b[1;32m     16\u001b[0m p\u001b[38;5;241m.\u001b[39mrun()\n",
      "File \u001b[0;32m~/.local/lib/python3.10/site-packages/apache_beam/pvalue.py:137\u001b[0m, in \u001b[0;36mPValue.__or__\u001b[0;34m(self, ptransform)\u001b[0m\n\u001b[1;32m    136\u001b[0m \u001b[38;5;28;01mdef\u001b[39;00m \u001b[38;5;21m__or__\u001b[39m(\u001b[38;5;28mself\u001b[39m, ptransform):\n\u001b[0;32m--> 137\u001b[0m   \u001b[38;5;28;01mreturn\u001b[39;00m \u001b[38;5;28;43mself\u001b[39;49m\u001b[38;5;241;43m.\u001b[39;49m\u001b[43mpipeline\u001b[49m\u001b[38;5;241;43m.\u001b[39;49m\u001b[43mapply\u001b[49m\u001b[43m(\u001b[49m\u001b[43mptransform\u001b[49m\u001b[43m,\u001b[49m\u001b[43m \u001b[49m\u001b[38;5;28;43mself\u001b[39;49m\u001b[43m)\u001b[49m\n",
      "File \u001b[0;32m~/.local/lib/python3.10/site-packages/apache_beam/pipeline.py:725\u001b[0m, in \u001b[0;36mPipeline.apply\u001b[0;34m(self, transform, pvalueish, label)\u001b[0m\n\u001b[1;32m    723\u001b[0m type_options \u001b[38;5;241m=\u001b[39m \u001b[38;5;28mself\u001b[39m\u001b[38;5;241m.\u001b[39m_options\u001b[38;5;241m.\u001b[39mview_as(TypeOptions)\n\u001b[1;32m    724\u001b[0m \u001b[38;5;28;01mif\u001b[39;00m type_options\u001b[38;5;241m.\u001b[39mpipeline_type_check:\n\u001b[0;32m--> 725\u001b[0m   \u001b[43mtransform\u001b[49m\u001b[38;5;241;43m.\u001b[39;49m\u001b[43mtype_check_inputs\u001b[49m\u001b[43m(\u001b[49m\u001b[43mpvalueish\u001b[49m\u001b[43m)\u001b[49m\n\u001b[1;32m    727\u001b[0m pvalueish_result \u001b[38;5;241m=\u001b[39m \u001b[38;5;28mself\u001b[39m\u001b[38;5;241m.\u001b[39mrunner\u001b[38;5;241m.\u001b[39mapply(transform, pvalueish, \u001b[38;5;28mself\u001b[39m\u001b[38;5;241m.\u001b[39m_options)\n\u001b[1;32m    729\u001b[0m \u001b[38;5;28;01mif\u001b[39;00m type_options \u001b[38;5;129;01mis\u001b[39;00m \u001b[38;5;129;01mnot\u001b[39;00m \u001b[38;5;28;01mNone\u001b[39;00m \u001b[38;5;129;01mand\u001b[39;00m type_options\u001b[38;5;241m.\u001b[39mpipeline_type_check:\n",
      "File \u001b[0;32m~/.local/lib/python3.10/site-packages/apache_beam/transforms/ptransform.py:947\u001b[0m, in \u001b[0;36mPTransformWithSideInputs.type_check_inputs\u001b[0;34m(self, pvalueish)\u001b[0m\n\u001b[1;32m    944\u001b[0m   \u001b[38;5;28;01mcontinue\u001b[39;00m\n\u001b[1;32m    945\u001b[0m \u001b[38;5;28;01mif\u001b[39;00m \u001b[38;5;129;01mnot\u001b[39;00m typehints\u001b[38;5;241m.\u001b[39mis_consistent_with(bindings\u001b[38;5;241m.\u001b[39mget(arg, typehints\u001b[38;5;241m.\u001b[39mAny),\n\u001b[1;32m    946\u001b[0m                                     hint):\n\u001b[0;32m--> 947\u001b[0m   \u001b[38;5;28;01mraise\u001b[39;00m TypeCheckError(\n\u001b[1;32m    948\u001b[0m       \u001b[38;5;124m'\u001b[39m\u001b[38;5;124mType hint violation for \u001b[39m\u001b[38;5;130;01m\\'\u001b[39;00m\u001b[38;5;132;01m{label}\u001b[39;00m\u001b[38;5;130;01m\\'\u001b[39;00m\u001b[38;5;124m: requires \u001b[39m\u001b[38;5;132;01m{hint}\u001b[39;00m\u001b[38;5;124m but got \u001b[39m\u001b[38;5;124m'\u001b[39m\n\u001b[1;32m    949\u001b[0m       \u001b[38;5;124m'\u001b[39m\u001b[38;5;132;01m{actual_type}\u001b[39;00m\u001b[38;5;124m for \u001b[39m\u001b[38;5;132;01m{arg}\u001b[39;00m\u001b[38;5;130;01m\\n\u001b[39;00m\u001b[38;5;124mFull type hint:\u001b[39m\u001b[38;5;130;01m\\n\u001b[39;00m\u001b[38;5;132;01m{debug_str}\u001b[39;00m\u001b[38;5;124m'\u001b[39m\u001b[38;5;241m.\u001b[39mformat(\n\u001b[1;32m    950\u001b[0m           label\u001b[38;5;241m=\u001b[39m\u001b[38;5;28mself\u001b[39m\u001b[38;5;241m.\u001b[39mlabel,\n\u001b[1;32m    951\u001b[0m           hint\u001b[38;5;241m=\u001b[39mhint,\n\u001b[1;32m    952\u001b[0m           actual_type\u001b[38;5;241m=\u001b[39mbindings[arg],\n\u001b[1;32m    953\u001b[0m           arg\u001b[38;5;241m=\u001b[39marg,\n\u001b[1;32m    954\u001b[0m           debug_str\u001b[38;5;241m=\u001b[39mtype_hints\u001b[38;5;241m.\u001b[39mdebug_str()))\n",
      "\u001b[0;31mTypeCheckError\u001b[0m: Type hint violation for '[3]: ParDo(FilterEvensDoFn)': requires <class 'int'> but got <class 'str'> for element\nFull type hint:\nIOTypeHints[inputs=((<class 'int'>,), {}), outputs=None]\nFile \"/home/danhnguyen/.local/lib/python3.10/site-packages/IPython/core/interactiveshell.py\", line 3308, in run_cell_async\n    has_raised = await self.run_ast_nodes(code_ast.body, cell_name,\nFile \"/home/danhnguyen/.local/lib/python3.10/site-packages/IPython/core/interactiveshell.py\", line 3490, in run_ast_nodes\n    if await self.run_code(code, result, async_=asy):\nFile \"/home/danhnguyen/.local/lib/python3.10/site-packages/IPython/core/interactiveshell.py\", line 3550, in run_code\n    exec(code_obj, self.user_global_ns, self.user_ns)\nFile \"/tmp/ipykernel_14277/3109295789.py\", line 6, in <module>\n    class FilterEvensDoFn(beam.DoFn):\nFile \"/home/danhnguyen/.local/lib/python3.10/site-packages/apache_beam/typehints/decorators.py\", line 785, in annotate_input_types\n    th = getattr(f, '_type_hints', IOTypeHints.empty()).with_input_types("
     ]
    }
   ],
   "source": [
    "import apache_beam as beam\n",
    "\n",
    "p = beam.Pipeline()\n",
    "\n",
    "# @beam.typehints.with_output_types(int)\n",
    "@beam.typehints.with_input_types(int)\n",
    "class FilterEvensDoFn(beam.DoFn):\n",
    "  def process(self, element):\n",
    "    if element % 2 == 0:\n",
    "      yield element\n",
    "\n",
    "evens = ( p\n",
    "         | beam.Create(['1','2','3'])\n",
    "         | beam.ParDo(FilterEvensDoFn()) \n",
    "        )\n",
    "  \n",
    "p.run()"
   ]
  },
  {
   "cell_type": "code",
   "execution_count": null,
   "metadata": {},
   "outputs": [],
   "source": [
    "import apache_beam as beam\n",
    "import typing\n",
    "\n",
    "class Employee(object):\n",
    "  def __init__(self, id, name):\n",
    "    self.id = id\n",
    "    self.name = name\n",
    "\n",
    "class EmployeeCoder(beam.coders.Coder):\n",
    "\n",
    "  def encode(self, employee):\n",
    "    return ('%s:%s' % (employee.id, employee.name)).encode('utf-8')\n",
    "\n",
    "  def decode(self, s):\n",
    "    return Employee(*s.decode('utf-8').split(':'))\n",
    "\n",
    "  def is_deterministic(self):\n",
    "    return True\n",
    "\n",
    "beam.coders.registry.register_coder(Employee, EmployeeCoder)\n",
    "\n",
    "def split_file(input):\n",
    "  name, id, salary = input.split(',')\n",
    "  return Employee(id, name), int(salary)\n",
    "\n",
    "result = (\n",
    "    p\n",
    "\t| beam.io.ReadFromText('data.txt')\n",
    "    | beam.Map(split_file)\n",
    "    | beam.CombinePerKey(sum).with_input_types(typing.Tuple[Employee, int])\n",
    "\t)\n",
    "\t\n",
    "p.run()\t"
   ]
  },
  {
   "cell_type": "code",
   "execution_count": null,
   "metadata": {},
   "outputs": [],
   "source": []
  }
 ],
 "metadata": {
  "kernelspec": {
   "display_name": "Python 3",
   "language": "python",
   "name": "python3"
  },
  "language_info": {
   "codemirror_mode": {
    "name": "ipython",
    "version": 3
   },
   "file_extension": ".py",
   "mimetype": "text/x-python",
   "name": "python",
   "nbconvert_exporter": "python",
   "pygments_lexer": "ipython3",
   "version": "3.10.12"
  }
 },
 "nbformat": 4,
 "nbformat_minor": 2
}
