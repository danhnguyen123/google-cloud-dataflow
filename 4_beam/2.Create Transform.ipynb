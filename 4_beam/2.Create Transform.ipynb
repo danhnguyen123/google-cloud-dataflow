{
 "cells": [
  {
   "cell_type": "code",
   "execution_count": 2,
   "metadata": {},
   "outputs": [
    {
     "name": "stderr",
     "output_type": "stream",
     "text": [
      "WARNING:apache_beam.io.filebasedsink:Deleting 1 existing files in target path matching: -*-of-%(num_shards)05d\n"
     ]
    },
    {
     "data": {
      "text/plain": [
       "<apache_beam.runners.portability.fn_api_runner.fn_runner.RunnerResult at 0x7f736b518880>"
      ]
     },
     "execution_count": 2,
     "metadata": {},
     "output_type": "execute_result"
    }
   ],
   "source": [
    "import apache_beam as beam\n",
    "\n",
    "p2 = beam.Pipeline()\n",
    "\n",
    "lines = (\n",
    "            p2\n",
    "            | beam.Create([\n",
    "               'Using create transform ',\n",
    "               'to generate in memory data ',\n",
    "               'This is 3rd line ',\n",
    "               'Thanks '])\n",
    "     \n",
    "            | beam.io.WriteToText('data/outCreate1')\n",
    "          )\n",
    "p2.run()  \n",
    "\n"
   ]
  },
  {
   "cell_type": "code",
   "execution_count": 1,
   "metadata": {},
   "outputs": [
    {
     "name": "stderr",
     "output_type": "stream",
     "text": [
      "WARNING:apache_beam.runners.interactive.interactive_environment:Dependencies required for Interactive Beam PCollection visualization are not available, please use: `pip install apache-beam[interactive]` to install necessary dependencies to enable all data visualization features.\n"
     ]
    },
    {
     "data": {
      "application/javascript": "\n        if (typeof window.interactive_beam_jquery == 'undefined') {\n          var jqueryScript = document.createElement('script');\n          jqueryScript.src = 'https://code.jquery.com/jquery-3.4.1.slim.min.js';\n          jqueryScript.type = 'text/javascript';\n          jqueryScript.onload = function() {\n            var datatableScript = document.createElement('script');\n            datatableScript.src = 'https://cdn.datatables.net/1.10.20/js/jquery.dataTables.min.js';\n            datatableScript.type = 'text/javascript';\n            datatableScript.onload = function() {\n              window.interactive_beam_jquery = jQuery.noConflict(true);\n              window.interactive_beam_jquery(document).ready(function($){\n                \n              });\n            }\n            document.head.appendChild(datatableScript);\n          };\n          document.head.appendChild(jqueryScript);\n        } else {\n          window.interactive_beam_jquery(document).ready(function($){\n            \n          });\n        }"
     },
     "metadata": {},
     "output_type": "display_data"
    },
    {
     "name": "stderr",
     "output_type": "stream",
     "text": [
      "WARNING:apache_beam.io.filebasedsink:Deleting 1 existing files in target path matching: -*-of-%(num_shards)05d\n"
     ]
    },
    {
     "name": "stdout",
     "output_type": "stream",
     "text": [
      "1\n",
      "2\n",
      "3\n",
      "4\n",
      "5\n",
      "6\n",
      "7\n",
      "8\n",
      "9\n"
     ]
    }
   ],
   "source": [
    "import apache_beam as beam\n",
    "\n",
    "p3 = beam.Pipeline()\n",
    "\n",
    "lines1 = (p3\n",
    "           \n",
    "           | beam.Create([1,2,3,4,5,6,7,8,9])\n",
    "           \n",
    "           | beam.io.WriteToText('data/outCreate2')\n",
    "          )\n",
    "p3.run()\n",
    "\n",
    "# visualize output\n",
    "!{('head -n 20 data/outCreate2-00000-of-00001')}\n"
   ]
  },
  {
   "cell_type": "code",
   "execution_count": 8,
   "metadata": {},
   "outputs": [
    {
     "name": "stderr",
     "output_type": "stream",
     "text": [
      "WARNING:apache_beam.io.filebasedsink:Deleting 1 existing files in target path matching: -*-of-%(num_shards)05d\n"
     ]
    },
    {
     "name": "stdout",
     "output_type": "stream",
     "text": [
      "('maths', 52)\n",
      "('english', 75)\n",
      "('science', 82)\n",
      "('computer', 65)\n",
      "('maths', 85)\n"
     ]
    }
   ],
   "source": [
    "import apache_beam as beam\n",
    "\n",
    "p4 = beam.Pipeline()\n",
    "\n",
    "\n",
    "lines = (p4\n",
    "           | beam.Create([(\"maths\",52),(\"english\",75),(\"science\",82), (\"computer\",65),(\"maths\",85)])\n",
    "         \n",
    "            | beam.io.WriteToText('data/outCreate3')\n",
    "          )\n",
    "p4.run()\n",
    "\n",
    "# visualize output\n",
    "!{('head -n 20 data/outCreate3-00000-of-00001')}"
   ]
  },
  {
   "cell_type": "code",
   "execution_count": 9,
   "metadata": {},
   "outputs": [
    {
     "name": "stdout",
     "output_type": "stream",
     "text": [
      "('row1', [1, 2, 3, 4, 5])\n",
      "('row2', [1, 2, 3, 4, 5])\n"
     ]
    }
   ],
   "source": [
    "import apache_beam as beam\n",
    "\n",
    "p5 = beam.Pipeline()\n",
    "\n",
    "lines = ( p5\n",
    "         \n",
    "       | beam.Create({'row1':[1,2,3,4,5],\n",
    "                     'row2':[1,2,3,4,5]})\n",
    "       | beam.Map(lambda element: element)\n",
    "       | beam.io.WriteToText('data/outCreate4')\n",
    "  )\n",
    "  \n",
    "p5.run()\n",
    "\n",
    "# visualize output\n",
    "!{('head -n 20 data/outCreate4-00000-of-00001')}"
   ]
  }
 ],
 "metadata": {
  "kernelspec": {
   "display_name": "Python 3",
   "language": "python",
   "name": "python3"
  },
  "language_info": {
   "codemirror_mode": {
    "name": "ipython",
    "version": 3
   },
   "file_extension": ".py",
   "mimetype": "text/x-python",
   "name": "python",
   "nbconvert_exporter": "python",
   "pygments_lexer": "ipython3",
   "version": "3.10.12"
  }
 },
 "nbformat": 4,
 "nbformat_minor": 2
}
